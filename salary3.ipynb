{
 "cells": [
  {
   "cell_type": "code",
   "execution_count": 1,
   "id": "f9010251",
   "metadata": {},
   "outputs": [],
   "source": [
    "import os\n",
    "import numpy as np\n",
    "import pandas as pd\n",
    "import matplotlib.pyplot as plt\n",
    "from sklearn.model_selection import train_test_split\n",
    "from sklearn.linear_model import LinearRegression\n",
    "from sklearn.metrics import r2_score"
   ]
  },
  {
   "cell_type": "code",
   "execution_count": 2,
   "id": "348a57c5",
   "metadata": {},
   "outputs": [],
   "source": [
    "def welcome():\n",
    "    print(\"Welcome to Salary Prediction System\")\n",
    "    print(\"Press ENTER key to proceed\")\n",
    "    input()"
   ]
  },
  {
   "cell_type": "code",
   "execution_count": 3,
   "id": "30003c2c",
   "metadata": {},
   "outputs": [],
   "source": [
    "def checkcsv():\n",
    "    csv_files=[]\n",
    "    cur_dir=os.getcwd()\n",
    "    content_list=os.listdir(cur_dir)\n",
    "    for x in content_list:\n",
    "        if x.split('.')[-1]=='csv':\n",
    "            csv_files.append(x)\n",
    "    if len(csv_files)==0:\n",
    "        return 'No csv file in the directory'\n",
    "    else:\n",
    "        return csv_files\n",
    "    "
   ]
  },
  {
   "cell_type": "code",
   "execution_count": 4,
   "id": "84fde694",
   "metadata": {},
   "outputs": [],
   "source": [
    "def display_and_select_csv(csv_files):\n",
    "    i=0\n",
    "    for file_name in csv_files:\n",
    "        print(i,'...',file_name)\n",
    "        i+=1\n",
    "    return csv_files[int(input(\"Select file to create ML model\"))]"
   ]
  },
  {
   "cell_type": "code",
   "execution_count": 5,
   "id": "57de53c0",
   "metadata": {},
   "outputs": [],
   "source": [
    "def graph(X_train,Y_train,regressionObject,X_test,Y_test,Y_pred):\n",
    "    plt.scatter(X_train,Y_train,color='red',label='training data')\n",
    "    plt.plot(X_train,regressionObject.predict(X_train),color='blue',label='Best Fit')\n",
    "    plt.scatter(X_test,Y_test,color='green',label='test data')\n",
    "    plt.scatter(X_test,Y_pred,color='black',label='Pred test data')\n",
    "    plt.title(\"Salary vs Experience\")\n",
    "    plt.xlabel('Years of Experience')\n",
    "    plt.ylabel('Salary')\n",
    "    plt.legend()\n",
    "    plt.show()"
   ]
  },
  {
   "cell_type": "code",
   "execution_count": 6,
   "id": "625362dd",
   "metadata": {},
   "outputs": [
    {
     "name": "stdout",
     "output_type": "stream",
     "text": [
      "Welcome to Salary Prediction System\n",
      "Press ENTER key to proceed\n",
      "\n",
      "0 ... famous-people.csv\n",
      "1 ... gama.csv\n",
      "2 ... housing.csv\n",
      "3 ... mercedesbenz.csv\n",
      "4 ... salary.csv\n",
      "5 ... test.csv\n",
      "6 ... USA_Housing.csv\n",
      "Select file to create ML model4\n",
      "salary.csv is selected\n",
      "Reading csv file\n",
      "Creating Dataset\n",
      "Dataset created\n",
      "\n",
      "Enter test data size (between 0 and 1)\n",
      ".3\n",
      "Model creation in progression\n",
      "Model is created\n",
      "Press ENTER key to predict test data in trained model\n",
      "\n",
      " Expe.    Salary        Predicted salary\n",
      "[2.] ... 43525.0 ... 44926.342260263016\n",
      "[9.6] ... 112635.0 ... 114326.47315693008\n",
      "[6.8] ... 91738.0 ... 88758.00387921064\n",
      "[4.1] ... 57081.0 ... 64102.6942185526\n",
      "[9.5] ... 116969.0 ... 113413.31353986867\n",
      "[6.] ... 93940.0 ... 81452.72694271937\n",
      "[3.9] ... 63218.0 ... 62276.374984429785\n",
      "[8.2] ... 113812.0 ... 101542.23851807036\n",
      "[7.9] ... 101302.0 ... 98802.75966688614\n",
      "\n",
      "Press ENTER key to see above result in graphical format\n",
      "\n"
     ]
    },
    {
     "data": {
      "image/png": "[encoded data removed]",
      "text/plain": [
       "<Figure size 432x288 with 1 Axes>"
      ]
     },
     "metadata": {
      "needs_background": "light"
     },
     "output_type": "display_data"
    },
    {
     "name": "stdout",
     "output_type": "stream",
     "text": [
      "\n",
      "Our model is 93.39% accurate\n",
      "\n",
      "\n",
      "Now you can predict salary of an employee using our model\n",
      "\n",
      "Enter experience in years of the candidates, separated by comma\n",
      "3,4,5,6\n"
     ]
    },
    {
     "data": {
      "image/png": "[encoded data removed]",
      "text/plain": [
       "<Figure size 432x288 with 1 Axes>"
      ]
     },
     "metadata": {
      "needs_background": "light"
     },
     "output_type": "display_data"
    },
    {
     "name": "stdout",
     "output_type": "stream",
     "text": [
      "   Experience      Salaries\n",
      "0         3.0  54057.938431\n",
      "1         4.0  63189.534601\n",
      "2         5.0  72321.130772\n",
      "3         6.0  81452.726943\n",
      "\n"
     ]
    }
   ],
   "source": [
    "\n",
    "def main():\n",
    "    welcome()\n",
    "    try:\n",
    "        csv_files=checkcsv()\n",
    "        if csv_files=='No csv file in the directory':\n",
    "            raise FileNotFoundError('No csv file in the directory')\n",
    "        csv_file=display_and_select_csv(csv_files)\n",
    "        print(csv_file,'is selected')\n",
    "        print('Reading csv file')\n",
    "        print('Creating Dataset')\n",
    "        dataset=pd.read_csv(csv_file)\n",
    "        print('Dataset created')\n",
    "        X=dataset.iloc[:,:-1].values\n",
    "        Y=dataset.iloc[:,-1].values\n",
    "        s=float(input(\"\\nEnter test data size (between 0 and 1)\\n\") )\n",
    "        X_train,X_test,Y_train,Y_test=train_test_split(X,Y,test_size=s)\n",
    "        print(\"Model creation in progression\")\n",
    "        regressionObject=LinearRegression()\n",
    "        regressionObject.fit(X_train,Y_train)\n",
    "        print(\"Model is created\")\n",
    "        print(\"Press ENTER key to predict test data in trained model\")\n",
    "        input()\n",
    "\n",
    "        Y_pred=regressionObject.predict(X_test)\n",
    "        i=0\n",
    "        print(' Expe.    Salary        Predicted salary')\n",
    "        while i<len(X_test):\n",
    "            print(X_test[i],'...',Y_test[i],'...',Y_pred[i])\n",
    "            i+=1\n",
    "        print(\"\\nPress ENTER key to see above result in graphical format\")\n",
    "        input()\n",
    "        graph(X_train,Y_train, regressionObject, X_test, Y_test, Y_pred)\n",
    "        r2=r2_score(Y_test,Y_pred)\n",
    "        print(\"\\nOur model is %2.2f%% accurate\" %(r2*100))\n",
    "\n",
    "        print(\"\\n\\nNow you can predict salary of an employee using our model\")\n",
    "        print(\"\\nEnter experience in years of the candidates, separated by comma\")\n",
    "\n",
    "        exp=[float(e) for e in input().split(',')]\n",
    "        ex=[]\n",
    "        for x in exp:\n",
    "            ex.append([x])\n",
    "        experience =np.array(ex)\n",
    "        salaries=regressionObject.predict(experience)\n",
    "\n",
    "        plt.scatter(experience,salaries,color='black')\n",
    "        plt.xlabel('Years of Experience')\n",
    "        plt.ylabel('Salaries')\n",
    "        plt.show()\n",
    "\n",
    "        d=pd.DataFrame({'Experience':exp,'Salaries':salaries})\n",
    "        print(d)\n",
    "        \n",
    "    except FileNotFoundError:\n",
    "        print('No csv file in the directory')\n",
    "        print(\"Press ENTER key to exit\")\n",
    "        input()\n",
    "        exit()\n",
    "\n",
    "if __name__==\"__main__\":\n",
    "    main()\n",
    "    input()\n"
   ]
  }
 ],
 "metadata": {
  "kernelspec": {
   "display_name": "Python 3 (ipykernel)",
   "language": "python",
   "name": "python3"
  },
  "language_info": {
   "codemirror_mode": {
    "name": "ipython",
    "version": 3
   },
   "file_extension": ".py",
   "mimetype": "text/x-python",
   "name": "python",
   "nbconvert_exporter": "python",
   "pygments_lexer": "ipython3",
   "version": "3.9.12"
  }
 },
 "nbformat": 4,
 "nbformat_minor": 5
}
